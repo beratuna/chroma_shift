{
 "cells": [
  {
   "cell_type": "code",
   "execution_count": 1,
   "metadata": {},
   "outputs": [
    {
     "name": "stdout",
     "output_type": "stream",
     "text": [
      "Cloning into 'PyTorch_CIFAR10'...\n",
      "remote: Enumerating objects: 643, done.\u001b[K\n",
      "remote: Counting objects: 100% (91/91), done.\u001b[K\n",
      "remote: Compressing objects: 100% (70/70), done.\u001b[K\n",
      "remote: Total 643 (delta 43), reused 50 (delta 21), pack-reused 552\u001b[K\n",
      "Receiving objects: 100% (643/643), 6.59 MiB | 9.08 MiB/s, done.\n",
      "Resolving deltas: 100% (226/226), done.\n"
     ]
    },
    {
     "name": "stderr",
     "output_type": "stream",
     "text": [
      "100%|██████████| 979M/979M [01:53<00:00, 8.65MMiB/s] \n"
     ]
    },
    {
     "name": "stdout",
     "output_type": "stream",
     "text": [
      "Download successful. Unzipping file...\n",
      "Unzip file successful!\n",
      "Archive:  state_dicts.zip\n",
      "   creating: PyTorch_CIFAR10/cifar10_models/state_dicts/\n",
      "  inflating: PyTorch_CIFAR10/cifar10_models/state_dicts/googlenet.pt  \n",
      "  inflating: PyTorch_CIFAR10/cifar10_models/state_dicts/vgg11_bn.pt  \n",
      "  inflating: PyTorch_CIFAR10/cifar10_models/state_dicts/vgg13_bn.pt  \n",
      "  inflating: PyTorch_CIFAR10/cifar10_models/state_dicts/resnet18.pt  \n",
      "  inflating: PyTorch_CIFAR10/cifar10_models/state_dicts/vgg19_bn.pt  \n",
      "  inflating: PyTorch_CIFAR10/cifar10_models/state_dicts/vgg16_bn.pt  \n",
      "  inflating: PyTorch_CIFAR10/cifar10_models/state_dicts/mobilenet_v2.pt  \n",
      "  inflating: PyTorch_CIFAR10/cifar10_models/state_dicts/inception_v3.pt  \n",
      "  inflating: PyTorch_CIFAR10/cifar10_models/state_dicts/densenet121.pt  \n",
      "  inflating: PyTorch_CIFAR10/cifar10_models/state_dicts/resnet34.pt  \n",
      "  inflating: PyTorch_CIFAR10/cifar10_models/state_dicts/densenet161.pt  \n",
      "  inflating: PyTorch_CIFAR10/cifar10_models/state_dicts/densenet169.pt  \n",
      "  inflating: PyTorch_CIFAR10/cifar10_models/state_dicts/resnet50.pt  \n"
     ]
    }
   ],
   "source": [
    "import os \n",
    "if not os.path.exists('PyTorch_CIFAR10'):\n",
    "    !git clone https://github.com/huyvnphan/PyTorch_CIFAR10.git\n",
    "\n",
    "if not os.path.exists('PyTorch_CIFAR10/cifar10_models/state_dicts'):\n",
    "    from PyTorch_CIFAR10.data import CIFAR10Data\n",
    "    CIFAR10Data.download_weights()\n",
    "    if os.path.exists('state_dicts.zip'):\n",
    "        !unzip state_dicts.zip -d PyTorch_CIFAR10/cifar10_models/\n",
    "    del CIFAR10Data"
   ]
  },
  {
   "cell_type": "code",
   "execution_count": 5,
   "metadata": {},
   "outputs": [],
   "source": [
    "import shutil\n",
    "shutil.rmtree(\"PyTorch_CIFAR10\")\n",
    "shutil.rmtree(\"cifar10_models\")"
   ]
  },
  {
   "cell_type": "code",
   "execution_count": 7,
   "metadata": {},
   "outputs": [
    {
     "name": "stdout",
     "output_type": "stream",
     "text": [
      "/workspace/integrated_stAdv/PyTorch_CIFAR10/\n"
     ]
    }
   ],
   "source": [
    "working_dir = os.path.abspath(os.getcwd())\n",
    "print(os.path.join(working_dir, 'PyTorch_CIFAR10/'))\n"
   ]
  },
  {
   "cell_type": "code",
   "execution_count": 9,
   "metadata": {},
   "outputs": [
    {
     "name": "stdout",
     "output_type": "stream",
     "text": [
      "Collecting kaggle\n",
      "  Downloading kaggle-1.5.12.tar.gz (58 kB)\n",
      "\u001b[K     |████████████████████████████████| 58 kB 980 kB/s eta 0:00:011\n",
      "\u001b[?25hRequirement already satisfied: six>=1.10 in /opt/conda/lib/python3.8/site-packages (from kaggle) (1.15.0)\n",
      "Requirement already satisfied: certifi in /opt/conda/lib/python3.8/site-packages (from kaggle) (2020.12.5)\n",
      "Requirement already satisfied: python-dateutil in /opt/conda/lib/python3.8/site-packages (from kaggle) (2.8.1)\n",
      "Requirement already satisfied: requests in /opt/conda/lib/python3.8/site-packages (from kaggle) (2.25.1)\n",
      "Requirement already satisfied: tqdm in /opt/conda/lib/python3.8/site-packages (from kaggle) (4.55.0)\n",
      "Requirement already satisfied: urllib3 in /opt/conda/lib/python3.8/site-packages (from kaggle) (1.26.2)\n",
      "Collecting python-slugify\n",
      "  Downloading python_slugify-5.0.2-py2.py3-none-any.whl (6.7 kB)\n",
      "Collecting text-unidecode>=1.3\n",
      "  Downloading text_unidecode-1.3-py2.py3-none-any.whl (78 kB)\n",
      "\u001b[K     |████████████████████████████████| 78 kB 2.3 MB/s eta 0:00:01\n",
      "\u001b[?25hRequirement already satisfied: chardet<5,>=3.0.2 in /opt/conda/lib/python3.8/site-packages (from requests->kaggle) (4.0.0)\n",
      "Requirement already satisfied: idna<3,>=2.5 in /opt/conda/lib/python3.8/site-packages (from requests->kaggle) (2.10)\n",
      "Building wheels for collected packages: kaggle\n",
      "  Building wheel for kaggle (setup.py) ... \u001b[?25ldone\n",
      "\u001b[?25h  Created wheel for kaggle: filename=kaggle-1.5.12-py3-none-any.whl size=73053 sha256=f27b91c66a37ebf17edeaf60e98d91f24788a945bdb276c97410966b0a9acb36\n",
      "  Stored in directory: /root/.cache/pip/wheels/29/da/11/144cc25aebdaeb4931b231e25fd34b394e6a5725cbb2f50106\n",
      "Successfully built kaggle\n",
      "Installing collected packages: text-unidecode, python-slugify, kaggle\n",
      "Successfully installed kaggle-1.5.12 python-slugify-5.0.2 text-unidecode-1.3\n"
     ]
    }
   ],
   "source": [
    "!pip install kaggle"
   ]
  },
  {
   "cell_type": "code",
   "execution_count": 17,
   "metadata": {},
   "outputs": [],
   "source": [
    "import os\n",
    "import kaggle\n",
    "# os.environ['KAGGLE_USERNAME'] = \"xxxxx\"\n",
    "# os.environ['KAGGLE_KEY'] = \"xxxxxxxxxxxxxxxxxxxxxxxxxx\"\n",
    "\n",
    "working_dir = os.path.abspath(os.getcwd())\n",
    "nips_path = os.path.join(working_dir, \"data/nips2017_targeted\")\n",
    "kaggle.api.dataset_download_files('google-brain/nips-2017-adversarial-learning-development-set', path=nips_path, unzip=True)"
   ]
  },
  {
   "cell_type": "code",
   "execution_count": null,
   "metadata": {},
   "outputs": [],
   "source": [
    "import shutil\n",
    "shutil.rmtree(\"data/nips2017_targeted\")\n",
    "shutil.rmtree(\"cifar10_models\")"
   ]
  },
  {
   "cell_type": "code",
   "execution_count": 20,
   "metadata": {},
   "outputs": [],
   "source": [
    "# !mkdir ~/.kaggle\n",
    "# !cp /workspace/integrated_stAdv/kaggle.json ~/.kaggle/kaggle.json\n",
    "!chmod 600 /root/.kaggle/kaggle.json"
   ]
  },
  {
   "cell_type": "code",
   "execution_count": null,
   "metadata": {},
   "outputs": [],
   "source": []
  }
 ],
 "metadata": {
  "kernelspec": {
   "display_name": "Python 3",
   "language": "python",
   "name": "python3"
  },
  "language_info": {
   "codemirror_mode": {
    "name": "ipython",
    "version": 3
   },
   "file_extension": ".py",
   "mimetype": "text/x-python",
   "name": "python",
   "nbconvert_exporter": "python",
   "pygments_lexer": "ipython3",
   "version": "3.8.3"
  }
 },
 "nbformat": 4,
 "nbformat_minor": 4
}
